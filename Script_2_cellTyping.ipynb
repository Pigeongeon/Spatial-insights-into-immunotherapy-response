{
 "cells": [
  {
   "cell_type": "code",
   "execution_count": null,
   "id": "ea5f2fa5",
   "metadata": {},
   "outputs": [],
   "source": [
    "from os import listdir, path, getcwd\n",
    "import pandas as pd\n",
    "import matplotlib.pyplot as plt\n",
    "import numpy as np\n",
    "import scipy.stats as stats\n",
    "import harmonypy\n",
    "import warnings\n",
    "from joblib import parallel_backend\n",
    "import anndata as ad\n",
    "import scanpy as sc\n",
    "import pytometry as pm\n",
    "import scanpy.external as sce\n",
    "import os\n",
    "\n",
    "warnings.filterwarnings('ignore')"
   ]
  },
  {
   "cell_type": "code",
   "execution_count": null,
   "id": "14c029af",
   "metadata": {},
   "outputs": [],
   "source": [
    "adata=sc.read_h5ad('anndata_qced_normalized.h5ad')"
   ]
  },
  {
   "cell_type": "code",
   "execution_count": 1,
   "id": "35724902",
   "metadata": {},
   "outputs": [],
   "source": [
    "#sc.set_figure_params(scanpy=True, dpi=80, dpi_save=400)\n",
    "                                                 \n",
    "sc.pl.matrixplot(adata, var_names= adata.var.index, groupby='pheno_leiden', dendrogram=False,\n",
    "                 use_raw=False, cmap=\"coolwarm\", standard_scale='var', \n",
    "                 swap_axes= True,\n",
    "                 save = '_clusterPlot_leiden_v1.svg')"
   ]
  },
  {
   "cell_type": "code",
   "execution_count": 2,
   "id": "373a2890",
   "metadata": {},
   "outputs": [],
   "source": [
    "sc.pl.rank_genes_groups(adata, n_genes=5,sharey=False, fontsize=16, save= '_leiden_rankGenes.svg')"
   ]
  },
  {
   "cell_type": "code",
   "execution_count": null,
   "id": "71449a1e",
   "metadata": {},
   "outputs": [],
   "source": [
    "cell_types = {\n",
    "0: 'Proliferating Tumour',\n",
    "1: 'B Cells',\n",
    "2: 'CD8 Cells',\n",
    "3: 'CD4 Cells',\n",
    "4: 'Tumour',\n",
    "5: 'Blood Vessels',\n",
    "6: 'Monocytes',\n",
    "7: 'CD4 Cells',\n",
    "8: 'Tumour',\n",
    "9: 'Tumour',\n",
    "10: 'HLADR Tumour',\n",
    "11: 'Tumour',\n",
    "12: 'Macrophages',\n",
    "13: 'Lymphocytes',\n",
    "14: 'Stroma',\n",
    "15: 'Lymphatics',\n",
    "16: 'Granulocytes',\n",
    "17: 'B Cells',\n",
    "18: 'Tumour',\n",
    "19: 'Unclassified',\n",
    "20: 'Unclassified',\n",
    "21: 'Tumour',\n",
    "22: 'Stroma',\n",
    "23: 'CD44 Tumour',\n",
    "24: 'Effector CD4',\n",
    "25: 'Tumour',\n",
    "26: 'Stroma',\n",
    "27: 'Tumour',\n",
    "28: 'Unclassified',\n",
    "29: 'Tumour',\n",
    "30: 'Tumour',\n",
    "31: 'Proliferating Lymphocytes',\n",
    "32: 'Unclassified',\n",
    "33: 'Artifact',\n",
    "34: 'CD8 Cells',\n",
    "35: 'Treg',\n",
    "36: 'B Cells',\n",
    "37: 'Mast Cells',\n",
    "38: 'Unclassified',\n",
    "39: 'B Cells',\n",
    "40: 'Tumour',\n",
    "41: 'CD8 Cells',\n",
    "42: 'CCR7+ CD8/CD4 Cells',\n",
    "43: 'Lymphatics',\n",
    "44: 'Unclassified',\n",
    "45: 'B Cells',\n",
    "46: 'B Cells',\n",
    "47: 'B Cells',\n",
    "48: 'Blood Vessels',\n",
    "49: 'Granulocytes',\n",
    "50: 'Blood Vessels',\n",
    "51: 'Unclassified',\n",
    "52: 'Unclassified',\n",
    "53: 'Unclassified',\n",
    "54: 'Unclassified',\n",
    "55: 'Unclassified',\n",
    "}"
   ]
  },
  {
   "cell_type": "code",
   "execution_count": null,
   "id": "522416e7",
   "metadata": {},
   "outputs": [],
   "source": [
    "adata.obs['CT_final'] = (\n",
    "    adata.obs['pheno_leiden']\n",
    "    .map(cell_types)\n",
    "    .astype('category')\n",
    ")"
   ]
  },
  {
   "cell_type": "code",
   "execution_count": null,
   "id": "726bafcf",
   "metadata": {},
   "outputs": [],
   "source": []
  },
  {
   "cell_type": "code",
   "execution_count": null,
   "id": "9cfdfff5",
   "metadata": {},
   "outputs": [],
   "source": [
    "adata.write(filename='anndata_celltyped.h5ad')"
   ]
  },
  {
   "cell_type": "code",
   "execution_count": null,
   "id": "97db5535",
   "metadata": {},
   "outputs": [
    {
     "data": {
      "text/plain": [
       "AnnData object with n_obs × n_vars = 154581 × 44\n",
       "    obs: 'Image', 'Object ID', 'Name', 'Class', 'Parent', 'ROI', 'x', 'y', 'Nucleus: Area µm^2', 'Nucleus: Length µm', 'Nucleus: Circularity', 'Nucleus: Solidity', 'Nucleus: Max diameter µm', 'Nucleus: Min diameter µm', 'Cell: Area µm^2', 'Cell: Length µm', 'Cell: Circularity', 'Cell: Solidity', 'Cell: Max diameter µm', 'Cell: Min diameter µm', 'Nucleus/Cell area ratio', 'pheno_leiden', 'CT_final'\n",
       "    uns: 'pca', 'pheno_jaccard_q', 'rank_genes_groups'\n",
       "    obsm: 'X_pca', 'X_pca_harmony', 'spatial'\n",
       "    varm: 'PCs'"
      ]
     },
     "execution_count": 22,
     "metadata": {},
     "output_type": "execute_result"
    }
   ],
   "source": [
    "adata"
   ]
  },
  {
   "cell_type": "code",
   "execution_count": null,
   "id": "ce06b0f9",
   "metadata": {},
   "outputs": [],
   "source": []
  },
  {
   "cell_type": "code",
   "execution_count": null,
   "id": "2a187310",
   "metadata": {},
   "outputs": [],
   "source": []
  },
  {
   "cell_type": "code",
   "execution_count": null,
   "id": "3092c6aa",
   "metadata": {},
   "outputs": [],
   "source": [
    "import matplotlib.pyplot as plt\n",
    "\n",
    "# Assuming df_pieT is your transposed DataFrame containing 'Responder' and 'Non-Responder' data\n",
    "\n",
    "# Create a figure with two subplots\n",
    "fig, axes = plt.subplots(1, 2, figsize=(16, 8))\n",
    "\n",
    "# Define data and labels for the two pie charts\n",
    "data1 = df_pieT['Responder']\n",
    "data2 = df_pieT['Non_Responder']\n",
    "labels = data1.index\n",
    "\n",
    "\n",
    "colors = [\n",
    "    '#1f77b4', '#ff7f0e', '#2ca02c', '#d62728', '#9467bd',\n",
    "    '#8c564b', '#e377c2', '#7f7f7f', '#bcbd22', '#17becf',\n",
    "    '#aec7e8', '#ffbb78', '#98df8a', '#ff9896', '#c5b0d5'\n",
    "]\n",
    "# Define colors for the pie slices\n",
    "#colors = ['dodgerblue', 'lightcoral']\n",
    "\n",
    "# Explode the \"Responder\" slice for emphasis in the first pie chart\n",
    "\n",
    "labels = cells\n",
    "# Create the first pie chart\n",
    "axes[0].pie(data1,  colors=colors, startangle=60, labels=labels)\n",
    "axes[0].set_title('Responder')\n",
    "\n",
    "# Create the second pie chart\n",
    "axes[1].pie(data2,  colors=colors, startangle=60 , labels=labels)\n",
    "axes[1].set_title('Non_Responder')\n",
    "\n",
    "axes[1].legend(labels,  ncol=1, bbox_to_anchor=(1.7,1) )\n",
    "\n",
    "# Set the resolution for the saved image\n",
    "resolution_value = 400\n",
    "\n",
    "# Save the combined pie chart as an SVG file\n",
    "plt.savefig(\"Pie_Charts.svg\", \n",
    "            format=\"svg\", dpi=resolution_value, bbox_inches=\"tight\")\n",
    "\n",
    "# Show the combined pie chart\n",
    "plt.show()"
   ]
  }
 ],
 "metadata": {
  "kernelspec": {
   "display_name": "Python 3 (ipykernel)",
   "language": "python",
   "name": "python3"
  },
  "language_info": {
   "codemirror_mode": {
    "name": "ipython",
    "version": 3
   },
   "file_extension": ".py",
   "mimetype": "text/x-python",
   "name": "python",
   "nbconvert_exporter": "python",
   "pygments_lexer": "ipython3",
   "version": "3.11.4"
  }
 },
 "nbformat": 4,
 "nbformat_minor": 5
}
